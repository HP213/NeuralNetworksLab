{
 "cells": [
  {
   "cell_type": "code",
   "execution_count": 1,
   "metadata": {},
   "outputs": [],
   "source": [
    "import numpy as np\n",
    "import matplotlib.pyplot as plt"
   ]
  },
  {
   "cell_type": "code",
   "execution_count": 2,
   "metadata": {},
   "outputs": [],
   "source": [
    "#config\n",
    "inputSize = 5\n",
    "outputSize = 3\n",
    "batchSize = 10\n",
    "testSize = 5\n",
    "epochs = 400\n",
    "learningRate = 0.01\n",
    "seed = 123456"
   ]
  },
  {
   "cell_type": "code",
   "execution_count": 3,
   "metadata": {},
   "outputs": [],
   "source": [
    "#create functions\n",
    "#Operator example in forward and backward (Mult)\n",
    "def forwardMult(A,B):\n",
    "    return np.matmul(A,B) \n",
    "\n",
    "def backwardMult(dC,A,B,dA,dB):\n",
    "    dA += np.matmul(dC,np.matrix.transpose(B))\n",
    "    dB += np.matmul(np.matrix.transpose(A),dC)\n",
    "    \n",
    "#Loss example in forward and backward (RMSE)\n",
    "def forwardloss(predictedOutput,realOutput):\n",
    "    if(predictedOutput.shape == realOutput.shape):\n",
    "        loss = np.mean( 0.5*np.square(predictedOutput - realOutput))       \n",
    "    else :\n",
    "        print(\"Shape of arrays not the same\")\n",
    "    return loss\n",
    "\n",
    "def backwardloss(predictedOutput,realOutput):\n",
    "    if(predictedOutput.shape == realOutput.shape):\n",
    "        deltaOutput = (predictedOutput - realOutput)/predictedOutput.size\n",
    "    else :\n",
    "        print(\"Shape of arrays not the same\")\n",
    "    return deltaOutput\n",
    "\n",
    "#Optimizer example (SGD)\n",
    "def updateweights(W,dW,learningRate):\n",
    "    W -= learningRate * dW"
   ]
  },
  {
   "cell_type": "code",
   "execution_count": 4,
   "metadata": {},
   "outputs": [],
   "source": [
    "#Generation of fake dataset - we generate random inputs and weights and calculate outputs\n",
    "np.random.seed(seed)\n",
    "inputArray = np.random.uniform(-5,5,(batchSize,inputSize))\n",
    "weights = np.random.uniform(-5,5,(inputSize,outputSize))\n",
    "outputArray = np.matmul(inputArray,weights)\n",
    "inputTest = np.random.uniform(-5,5,(testSize,inputSize))\n",
    "outputTest = np.matmul(inputTest,weights)"
   ]
  },
  {
   "cell_type": "code",
   "execution_count": 5,
   "metadata": {},
   "outputs": [],
   "source": [
    "#initialization of NN by other random weights\n",
    "nnWeights = np.random.uniform(-3,3,(inputSize,outputSize))\n",
    "deltaweights = np.zeros((inputSize,outputSize))\n",
    "deltainput = np.zeros((batchSize,inputSize))\n",
    "deltaoutput = np.zeros((inputSize,outputSize))"
   ]
  },
  {
   "cell_type": "code",
   "execution_count": 6,
   "metadata": {},
   "outputs": [
    {
     "name": "stdout",
     "output_type": "stream",
     "text": [
      "Epoch: 10 Loss (train): 139.093 Loss (test): 135.703\n",
      "Epoch: 20 Loss (train): 72.917 Loss (test): 97.018\n",
      "Epoch: 30 Loss (train): 42.783 Loss (test): 73.837\n",
      "Epoch: 40 Loss (train): 27.811 Loss (test): 58.390\n",
      "Epoch: 50 Loss (train): 19.624 Loss (test): 47.288\n",
      "Epoch: 60 Loss (train): 14.704 Loss (test): 38.904\n",
      "Epoch: 70 Loss (train): 11.493 Loss (test): 32.369\n",
      "Epoch: 80 Loss (train): 9.251 Loss (test): 27.163\n",
      "Epoch: 90 Loss (train): 7.602 Loss (test): 22.952\n",
      "Epoch: 100 Loss (train): 6.339 Loss (test): 19.504\n",
      "Epoch: 110 Loss (train): 5.343 Loss (test): 16.655\n",
      "Epoch: 120 Loss (train): 4.540 Loss (test): 14.280\n",
      "Epoch: 130 Loss (train): 3.881 Loss (test): 12.287\n",
      "Epoch: 140 Loss (train): 3.334 Loss (test): 10.605\n",
      "Epoch: 150 Loss (train): 2.875 Loss (test): 9.178\n",
      "Epoch: 160 Loss (train): 2.487 Loss (test): 7.961\n",
      "Epoch: 170 Loss (train): 2.157 Loss (test): 6.920\n",
      "Epoch: 180 Loss (train): 1.875 Loss (test): 6.025\n",
      "Epoch: 190 Loss (train): 1.632 Loss (test): 5.255\n",
      "Epoch: 200 Loss (train): 1.424 Loss (test): 4.589\n",
      "Epoch: 210 Loss (train): 1.244 Loss (test): 4.013\n",
      "Epoch: 220 Loss (train): 1.088 Loss (test): 3.513\n",
      "Epoch: 230 Loss (train): 0.953 Loss (test): 3.078\n",
      "Epoch: 240 Loss (train): 0.835 Loss (test): 2.699\n",
      "Epoch: 250 Loss (train): 0.732 Loss (test): 2.369\n",
      "Epoch: 260 Loss (train): 0.643 Loss (test): 2.080\n",
      "Epoch: 270 Loss (train): 0.565 Loss (test): 1.828\n",
      "Epoch: 280 Loss (train): 0.497 Loss (test): 1.607\n",
      "Epoch: 290 Loss (train): 0.437 Loss (test): 1.414\n",
      "Epoch: 300 Loss (train): 0.384 Loss (test): 1.244\n",
      "Epoch: 310 Loss (train): 0.338 Loss (test): 1.095\n",
      "Epoch: 320 Loss (train): 0.298 Loss (test): 0.964\n",
      "Epoch: 330 Loss (train): 0.262 Loss (test): 0.849\n",
      "Epoch: 340 Loss (train): 0.231 Loss (test): 0.748\n",
      "Epoch: 350 Loss (train): 0.204 Loss (test): 0.660\n",
      "Epoch: 360 Loss (train): 0.180 Loss (test): 0.581\n",
      "Epoch: 370 Loss (train): 0.159 Loss (test): 0.513\n",
      "Epoch: 380 Loss (train): 0.140 Loss (test): 0.452\n",
      "Epoch: 390 Loss (train): 0.123 Loss (test): 0.399\n",
      "Epoch: 400 Loss (train): 0.109 Loss (test): 0.352\n"
     ]
    }
   ],
   "source": [
    "historyTrain=[] #Used to record the history of loss\n",
    "historyTest=[]\n",
    "i = 1\n",
    "while i <= epochs:\n",
    "    #Forward pass train:\n",
    "    nnOutput = forwardMult(inputArray,nnWeights)\n",
    "    lossTrain = forwardloss(nnOutput,outputArray)\n",
    "    historyTrain.append(lossTrain)\n",
    "    \n",
    "    #Forward pass test:\n",
    "    nnTest = forwardMult(inputTest,nnWeights)\n",
    "    lossTest = forwardloss(nnTest,outputTest)\n",
    "    historyTest.append(lossTest)\n",
    "    #Print Loss every 50 epochs: \n",
    "    if(i%10==0):\n",
    "        print(\"Epoch: \" + str(i) + \" Loss (train): \" + \"{0:.3f}\".format(lossTrain) + \" Loss (test): \" + \"{0:.3f}\".format(lossTest))\n",
    "    \n",
    "    #Backpropagate\n",
    "    deltaoutput = backwardloss(nnOutput,outputArray)\n",
    "    backwardMult(deltaoutput,inputArray,nnWeights,deltainput,deltaweights)\n",
    "    \n",
    "    #Apply optimizer\n",
    "    updateweights(nnWeights,deltaweights, learningRate)\n",
    "    \n",
    "    #Reset deltas \n",
    "    deltainput = np.zeros((batchSize,inputSize))\n",
    "    deltaweights = np.zeros((inputSize,outputSize))\n",
    "    deltaoutput = np.zeros((inputSize,outputSize))\n",
    "    \n",
    "    #Start new epoch\n",
    "    i = i+1"
   ]
  },
  {
   "cell_type": "code",
   "execution_count": 7,
   "metadata": {},
   "outputs": [
    {
     "data": {
      "image/png": "[encoded data removed]",
      "text/plain": [
       "<Figure size 432x288 with 1 Axes>"
      ]
     },
     "metadata": {},
     "output_type": "display_data"
    }
   ],
   "source": [
    "plt.plot(historyTrain)\n",
    "plt.plot(historyTest)\n",
    "plt.title('RMSE loss')\n",
    "plt.ylabel('Loss')\n",
    "plt.xlabel('Epoch')\n",
    "plt.legend(['train','test'], loc='upper right')\n",
    "plt.show()"
   ]
  },
  {
   "cell_type": "code",
   "execution_count": 8,
   "metadata": {},
   "outputs": [
    {
     "data": {
      "text/plain": [
       "array([[-4.00263237,  2.34596222, -4.8345549 ],\n",
       "       [-0.186155  , -4.04061126, -0.02693667],\n",
       "       [ 3.38796274,  3.97333257,  2.32591519],\n",
       "       [ 2.58724364,  0.60657183, -0.28522073],\n",
       "       [-3.61231882, -4.05538867,  4.42256339]])"
      ]
     },
     "execution_count": 8,
     "metadata": {},
     "output_type": "execute_result"
    }
   ],
   "source": [
    "weights"
   ]
  },
  {
   "cell_type": "code",
   "execution_count": 10,
   "metadata": {},
   "outputs": [
    {
     "data": {
      "text/plain": [
       "array([[-4.04533436,  2.3788998 , -4.87272339],\n",
       "       [-0.29534094, -3.9852363 , -0.13807301],\n",
       "       [ 3.16059177,  4.05947631,  2.08047218],\n",
       "       [ 2.35157153,  0.6917928 , -0.54164365],\n",
       "       [-3.78222308, -3.98801605,  4.24041106]])"
      ]
     },
     "execution_count": 10,
     "metadata": {},
     "output_type": "execute_result"
    }
   ],
   "source": [
    "#learning weights\n",
    "nnWeights"
   ]
  },
  {
   "cell_type": "code",
   "execution_count": null,
   "metadata": {},
   "outputs": [],
   "source": []
  }
 ],
 "metadata": {
  "kernelspec": {
   "display_name": "Python 3",
   "language": "python",
   "name": "python3"
  },
  "language_info": {
   "codemirror_mode": {
    "name": "ipython",
    "version": 3
   },
   "file_extension": ".py",
   "mimetype": "text/x-python",
   "name": "python",
   "nbconvert_exporter": "python",
   "pygments_lexer": "ipython3",
   "version": "3.6.5"
  }
 },
 "nbformat": 4,
 "nbformat_minor": 2
}
